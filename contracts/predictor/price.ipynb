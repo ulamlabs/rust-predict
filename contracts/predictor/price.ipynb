{
 "cells": [
  {
   "cell_type": "code",
   "execution_count": 78,
   "metadata": {},
   "outputs": [
    {
     "name": "stdout",
     "output_type": "stream",
     "text": [
      "50.0 True 2.5 , 7.499375156210947\n",
      "2.5 7.499375156210947\n",
      "54.85782553426749 0.7428912767133746 4.249562609347663 6.4701147533290175\n",
      "2.9890674632838596 1.2604951460638034 5.209619607265214 1.2604951460638034\n",
      "107.1967736267668\n"
     ]
    }
   ],
   "source": [
    "amount = 10\n",
    "bottom = 40\n",
    "top = 60\n",
    "middle = (top + bottom) / 2\n",
    "my_price = 55\n",
    "\n",
    "pool_a = 10000\n",
    "pool_b = 10000\n",
    "shares = 1000\n",
    "p0 = bottom + (top - bottom) * pool_a / (pool_a + pool_b)\n",
    "\n",
    "ratio = (top - my_price) / (my_price - bottom) if my_price < middle else (my_price - bottom) / (top - my_price)\n",
    "minted_a = minted_b = amount / (ratio + 1)\n",
    "for_swap_a = minted2_b = (amount - minted_a - minted_b) * (pool_a / (pool_a + pool_b))\n",
    "market_b = pool_b * for_swap_a / (pool_a + for_swap_a)\n",
    "\n",
    "print(p0, not (my_price < middle), minted_a, ',', minted_b + minted2_b + market_b)\n",
    "\n",
    "sum_of_b = minted_b + minted2_b + market_b\n",
    "pooled_b = pool_b * minted_a / pool_a\n",
    "liq = pooled_b * shares / pool_b\n",
    "holding_b = sum_of_b - pooled_b\n",
    "pooled_a = minted_a\n",
    "\n",
    "shares += liq\n",
    "pool_a += pooled_a\n",
    "pool_b += pooled_b\n",
    "print(liq * pool_a / shares, liq * pool_b / shares +  holding_b)\n",
    "\n",
    "delta_a = 7000\n",
    "pool_b -= pool_b * delta_a / (pool_a + delta_a)\n",
    "pool_a += delta_a \n",
    "p = bottom + (top - bottom) * pool_a / (pool_a + pool_b)\n",
    "r2 = pool_a / (pool_a + pool_b)\n",
    "print(p, r2, liq * pool_a / shares, liq * pool_b / shares +  holding_b)\n",
    "\n",
    "x = (liq * pool_b / shares +  holding_b - liq * pool_a / shares) / r2\n",
    "y = x*(1+r2)\n",
    "print(x, liq * pool_a / shares - x, y, liq * pool_b / shares + holding_b - y)\n",
    "fin = sum([x, liq * pool_a / shares - x, y, liq * pool_b / shares + holding_b - y])\n",
    "print(100 * fin / amount)\n",
    "\n"
   ]
  }
 ],
 "metadata": {
  "kernelspec": {
   "display_name": "Python 3",
   "language": "python",
   "name": "python3"
  },
  "language_info": {
   "codemirror_mode": {
    "name": "ipython",
    "version": 3
   },
   "file_extension": ".py",
   "mimetype": "text/x-python",
   "name": "python",
   "nbconvert_exporter": "python",
   "pygments_lexer": "ipython3",
   "version": "3.11.7"
  }
 },
 "nbformat": 4,
 "nbformat_minor": 2
}
